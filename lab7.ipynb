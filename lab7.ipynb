{
  "nbformat": 4,
  "nbformat_minor": 0,
  "metadata": {
    "colab": {
      "provenance": [],
      "authorship_tag": "ABX9TyPd9EAN1Ng8Js/2cF7X1WkG",
      "include_colab_link": true
    },
    "kernelspec": {
      "name": "python3",
      "display_name": "Python 3"
    },
    "language_info": {
      "name": "python"
    }
  },
  "cells": [
    {
      "cell_type": "markdown",
      "metadata": {
        "id": "view-in-github",
        "colab_type": "text"
      },
      "source": [
        "<a href=\"https://colab.research.google.com/github/Mr-rudra-narayan-sahu/assessment/blob/main/lab7.ipynb\" target=\"_parent\"><img src=\"https://colab.research.google.com/assets/colab-badge.svg\" alt=\"Open In Colab\"/></a>"
      ]
    },
    {
      "cell_type": "code",
      "source": [
        "!git clone https://github.com/Mr-rudra-narayan-sahu/assessment.git\n",
        "!git remote add origin https://github.com/Mr-rudra-narayan-sahu/assessment.git\n",
        "!git branch -M main\n",
        "!git push -u origin main"
      ],
      "metadata": {
        "colab": {
          "base_uri": "https://localhost:8080/"
        },
        "id": "8IDXX_YpJ6W2",
        "outputId": "a1161a9e-a15c-45e2-f01d-8f7674a98498"
      },
      "execution_count": 9,
      "outputs": [
        {
          "output_type": "stream",
          "name": "stdout",
          "text": [
            "Cloning into 'assessment'...\n",
            "remote: Enumerating objects: 28, done.\u001b[K\n",
            "remote: Counting objects: 100% (28/28), done.\u001b[K\n",
            "remote: Compressing objects: 100% (27/27), done.\u001b[K\n",
            "remote: Total 28 (delta 9), reused 0 (delta 0), pack-reused 0 (from 0)\u001b[K\n",
            "Receiving objects: 100% (28/28), 10.90 MiB | 12.69 MiB/s, done.\n",
            "Resolving deltas: 100% (9/9), done.\n",
            "fatal: not a git repository (or any of the parent directories): .git\n",
            "fatal: not a git repository (or any of the parent directories): .git\n",
            "fatal: not a git repository (or any of the parent directories): .git\n"
          ]
        }
      ]
    },
    {
      "cell_type": "code",
      "source": [
        "from tensorflow.keras.preprocessing.image import ImageDataGenerator\n",
        "from tensorflow.keras.preprocessing import image # Removed extra space at the beginning of this line\n",
        "import numpy as np\n",
        "import matplotlib.pyplot as plt\n",
        "import PIL.Image as Image\n",
        "from skimage import io\n",
        "# Read an image file\n",
        "url = \"https://iiif.lib.ncsu.edu/iiif/0052574/full/800,/0/default.jpg\"\n",
        "img = io.imread(url) # Open an image\n",
        "# Convert image to PIL format and then to a numpy array\n",
        "img = Image.fromarray(img) # Convert to PIL image format if needed\n",
        "x = image.img_to_array(img) # Convert image to numpy array\n",
        "# Reshape the image to (1, img_width, img_height, channels)\n",
        "x = np.expand_dims(x, axis=0)\n",
        "print(x.shape)\n",
        "# Create an instance of ImageDataGenerator and specify augmentation\n",
        "# parameters\n",
        "datagen = ImageDataGenerator(\n",
        "    rotation_range=20,\n",
        "    width_shift_range=0.2,\n",
        "    height_shift_range=0.2,\n",
        "    shear_range=0.2,\n",
        "    zoom_range=0.2,\n",
        "    horizontal_flip=True,\n",
        "    fill_mode='nearest'\n",
        ")\n",
        "# Generate augmented images\n",
        "i = 0\n",
        "for batch in datagen.flow(x, batch_size=1, save_to_dir='/content/aug2',\n",
        "                         save_prefix=\"augmented\", save_format=\"jpeg\"):\n",
        "  i += 1\n",
        "  if i > 40:\n",
        "        break"
      ],
      "metadata": {
        "colab": {
          "base_uri": "https://localhost:8080/"
        },
        "id": "G3PPM-qQIRaW",
        "outputId": "790ea05c-ffb6-4e5c-b297-4fdfd605ae2a"
      },
      "execution_count": 8,
      "outputs": [
        {
          "output_type": "stream",
          "name": "stdout",
          "text": [
            "(1, 552, 800, 3)\n"
          ]
        }
      ]
    },
    {
      "cell_type": "code",
      "source": [
        "from tensorflow.keras.preprocessing.image import ImageDataGenerator\n",
        "from tensorflow.keras.preprocessing import image\n",
        "import numpy as np\n",
        "import matplotlib.pyplot as plt\n",
        "import PIL.Image as Image\n",
        "from skimage import io\n",
        "import os # Import the os module\n",
        "\n",
        "# Create the directory if it doesn't exist\n",
        "if not os.path.exists('/content/aug2'):\n",
        "    os.makedirs('/content/aug2')\n",
        "\n",
        "# Read an image file\n",
        "url = \"https://iiif.lib.ncsu.edu/iiif/0052574/full/800,/0/default.jpg\"\n",
        "img = io.imread(url) # Open an image\n",
        "# Convert image to PIL format and then to a numpy array\n",
        "img = Image.fromarray(img) # Convert to PIL image format if needed\n",
        "x = image.img_to_array(img) # Convert image to numpy array\n",
        "# Reshape the image to (1, img_width, img_height, channels)\n",
        "x = np.expand_dims(x, axis=0)\n",
        "print(x.shape)\n",
        "# Create an instance of ImageDataGenerator and specify augmentation\n",
        "# parameters\n",
        "datagen = ImageDataGenerator(\n",
        "    rotation_range=20,\n",
        "    width_shift_range=0.2,\n",
        "    height_shift_range=0.2,\n",
        "    shear_range=0.2,\n",
        "    zoom_range=0.2,\n",
        "    horizontal_flip=True,\n",
        "    fill_mode='nearest'\n",
        ")\n",
        "# Generate augmented images\n",
        "i = 0\n",
        "for batch in datagen.flow(x, batch_size=1, save_to_dir='/content/aug2',\n",
        "                         save_prefix=\"augmented\", save_format=\"jpeg\"):\n",
        "    i += 1\n",
        "    if i > 40:\n",
        "        break"
      ],
      "metadata": {
        "colab": {
          "base_uri": "https://localhost:8080/"
        },
        "id": "zgtDIq-8Ihjb",
        "outputId": "61e56f5b-60ae-4438-a2a7-2348a12d8007"
      },
      "execution_count": 3,
      "outputs": [
        {
          "output_type": "stream",
          "name": "stdout",
          "text": [
            "(1, 552, 800, 3)\n"
          ]
        }
      ]
    },
    {
      "cell_type": "code",
      "source": [],
      "metadata": {
        "id": "8nZywVxzKubu"
      },
      "execution_count": null,
      "outputs": []
    }
  ]
}