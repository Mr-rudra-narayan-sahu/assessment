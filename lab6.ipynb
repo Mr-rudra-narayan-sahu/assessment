{
  "nbformat": 4,
  "nbformat_minor": 0,
  "metadata": {
    "colab": {
      "provenance": [],
      "authorship_tag": "ABX9TyMV2noeK6jdOOf5c5CEcxyu",
      "include_colab_link": true
    },
    "kernelspec": {
      "name": "python3",
      "display_name": "Python 3"
    },
    "language_info": {
      "name": "python"
    }
  },
  "cells": [
    {
      "cell_type": "markdown",
      "metadata": {
        "id": "view-in-github",
        "colab_type": "text"
      },
      "source": [
        "<a href=\"https://colab.research.google.com/github/Mr-rudra-narayan-sahu/assessment/blob/main/lab6.ipynb\" target=\"_parent\"><img src=\"https://colab.research.google.com/assets/colab-badge.svg\" alt=\"Open In Colab\"/></a>"
      ]
    },
    {
      "cell_type": "code",
      "source": [
        "!git clone https://github.com/Mr-rudra-narayan-sahu/assessment.git\n",
        "!git remote add origin https://github.com/Mr-rudra-narayan-sahu/assessment.git\n",
        "!git branch -M main\n",
        "!git push -u origin main"
      ],
      "metadata": {
        "colab": {
          "base_uri": "https://localhost:8080/"
        },
        "id": "I0Yr2z52nmqu",
        "outputId": "e49d811f-a73c-4668-8459-d355053e99da"
      },
      "execution_count": 5,
      "outputs": [
        {
          "output_type": "stream",
          "name": "stdout",
          "text": [
            "Cloning into 'assessment'...\n",
            "remote: Enumerating objects: 31, done.\u001b[K\n",
            "remote: Counting objects: 100% (31/31), done.\u001b[K\n",
            "remote: Compressing objects: 100% (30/30), done.\u001b[K\n",
            "remote: Total 31 (delta 11), reused 0 (delta 0), pack-reused 0 (from 0)\u001b[K\n",
            "Receiving objects: 100% (31/31), 10.90 MiB | 13.76 MiB/s, done.\n",
            "Resolving deltas: 100% (11/11), done.\n",
            "fatal: not a git repository (or any of the parent directories): .git\n",
            "fatal: not a git repository (or any of the parent directories): .git\n",
            "fatal: not a git repository (or any of the parent directories): .git\n"
          ]
        }
      ]
    },
    {
      "cell_type": "code",
      "execution_count": 1,
      "metadata": {
        "id": "6_5RBdw9l-y9"
      },
      "outputs": [],
      "source": [
        "import numpy as np"
      ]
    },
    {
      "cell_type": "code",
      "source": [
        "def sigmoid(x):\n",
        "    return 1 / (1 + np.exp(-x))\n",
        "\n",
        "def sigmoid_derivative(x):\n",
        "    return x * (1 - x)"
      ],
      "metadata": {
        "id": "iFj4Oo4QmWVj"
      },
      "execution_count": 2,
      "outputs": []
    },
    {
      "cell_type": "code",
      "source": [
        "class NeuralNetwork:\n",
        "    def __init__(self,\n",
        "                 input_size,\n",
        "                 hidden_size,\n",
        "                 output_size):\n",
        "        self.weights_input_hidden = np.random.rand(input_size, hidden_size)\n",
        "        self.bias_hidden = np.zeros((1, hidden_size))\n",
        "        self.weights_hidden_output = np.random.rand(hidden_size, output_size)\n",
        "        self.bias_output = np.zeros((1, output_size))\n",
        "\n",
        "    def forward(self, inputs):\n",
        "        self.inputs = inputs\n",
        "        self.hidden_layer_input = np.dot(inputs,\n",
        "                                         self.weights_input_hidden) + self.bias_hidden\n",
        "        self.hidden_layer_output = sigmoid(self.hidden_layer_input)\n",
        "        self.output_layer_input = np.dot(self.hidden_layer_output,\n",
        "                                         self.weights_hidden_output) + self.bias_output\n",
        "        self.output = sigmoid(self.output_layer_input)\n",
        "        return self.output\n",
        "\n",
        "    def backward(self, target, learning_rate):\n",
        "        loss = target - self.output\n",
        "        delta_output = loss * sigmoid_derivative(self.output)\n",
        "        loss_hidden = delta_output.dot(self.weights_hidden_output.T)\n",
        "        delta_hidden = loss_hidden * sigmoid_derivative(\n",
        "            self.hidden_layer_output)\n",
        "        self.weights_hidden_output += self.hidden_layer_output.T.dot(\n",
        "            delta_output) * learning_rate\n",
        "        self.bias_output += np.sum(delta_output,\n",
        "                                 axis=0,\n",
        "                                 keepdims=True) * learning_rate\n",
        "        self.weights_input_hidden += self.inputs.T.dot(delta_hidden) * learning_rate\n",
        "        self.bias_hidden += np.sum(delta_hidden,\n",
        "                                 axis=0,\n",
        "                                 keepdims=True) * learning_rate\n"
      ],
      "metadata": {
        "id": "RgcTPN0dmrkF"
      },
      "execution_count": 3,
      "outputs": []
    },
    {
      "cell_type": "code",
      "source": [
        "if __name__ == \"__main__\":\n",
        "    input_size = 4\n",
        "    hidden_size = 8\n",
        "    output_size = 1\n",
        "    nn = NeuralNetwork(input_size, hidden_size, output_size)\n",
        "    training_data = np.array([[0, 0, 1, 1], [0, 1, 1, 1], [1, 0, 1, 0],\n",
        "                             [1, 1, 1, 0]])\n",
        "    target_data = np.array([[0], [1], [1], [0]])\n",
        "    for _ in range(20000):\n",
        "        nn.forward(training_data)\n",
        "        nn.backward(target_data, learning_rate=0.001)\n",
        "    new_data = np.array([0, 1, 0, 0])\n",
        "    predicted_output = nn.forward(new_data)\n",
        "    print(f\"Predicted output: {predicted_output[0]}\")"
      ],
      "metadata": {
        "colab": {
          "base_uri": "https://localhost:8080/"
        },
        "id": "Kd-vW0Ucm2ot",
        "outputId": "6ddb7a44-7a10-4951-a93b-cdd431c9ad50"
      },
      "execution_count": 4,
      "outputs": [
        {
          "output_type": "stream",
          "name": "stdout",
          "text": [
            "Predicted output: [0.48683023]\n"
          ]
        }
      ]
    }
  ]
}